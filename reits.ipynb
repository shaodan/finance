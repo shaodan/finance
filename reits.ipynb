{
 "cells": [
  {
   "cell_type": "code",
   "execution_count": 1,
   "metadata": {},
   "outputs": [
    {
     "name": "stderr",
     "output_type": "stream",
     "text": [
      "C:\\Users\\ShaoDan\\Anaconda3\\lib\\site-packages\\ipykernel\\parentpoller.py:116: UserWarning: Parent poll failed.  If the frontend dies,\n",
      "                the kernel may be left running.  Please let us know\n",
      "                about your system (bitness, Python, etc.) at\n",
      "                ipython-dev@scipy.org\n",
      "  ipython-dev@scipy.org\"\"\")\n"
     ]
    }
   ],
   "source": [
    "import pandas as pd\n",
    "from pypfopt.efficient_frontier import EfficientFrontier\n",
    "from pypfopt import risk_models\n",
    "from pypfopt import expected_returns"
   ]
  },
  {
   "cell_type": "code",
   "execution_count": 2,
   "metadata": {},
   "outputs": [],
   "source": [
    "# Read in data\n",
    "df = pd.read_excel(\"correlation.xlsx\", sheet_name='dataselect', parse_dates=True, index_col=\"Dates\")"
   ]
  },
  {
   "cell_type": "code",
   "execution_count": 6,
   "metadata": {},
   "outputs": [
    {
     "data": {
      "text/html": [
       "<div>\n",
       "<style scoped>\n",
       "    .dataframe tbody tr th:only-of-type {\n",
       "        vertical-align: middle;\n",
       "    }\n",
       "\n",
       "    .dataframe tbody tr th {\n",
       "        vertical-align: top;\n",
       "    }\n",
       "\n",
       "    .dataframe thead th {\n",
       "        text-align: right;\n",
       "    }\n",
       "</style>\n",
       "<table border=\"1\" class=\"dataframe\">\n",
       "  <thead>\n",
       "    <tr style=\"text-align: right;\">\n",
       "      <th></th>\n",
       "      <th>FNERTR Index</th>\n",
       "      <th>CRSPSCT Index</th>\n",
       "      <th>CRSPLC1 Index</th>\n",
       "      <th>XAU Curncy</th>\n",
       "      <th>CL1 Comdty</th>\n",
       "      <th>LF98TRUU Index</th>\n",
       "      <th>LUATTRUU Index</th>\n",
       "    </tr>\n",
       "    <tr>\n",
       "      <th>Dates</th>\n",
       "      <th></th>\n",
       "      <th></th>\n",
       "      <th></th>\n",
       "      <th></th>\n",
       "      <th></th>\n",
       "      <th></th>\n",
       "      <th></th>\n",
       "    </tr>\n",
       "  </thead>\n",
       "  <tbody>\n",
       "    <tr>\n",
       "      <th>2011-03-31 00:00:00</th>\n",
       "      <td>8973.82</td>\n",
       "      <td>1000</td>\n",
       "      <td>1000</td>\n",
       "      <td>1432.2</td>\n",
       "      <td>106.72</td>\n",
       "      <td>1258.19</td>\n",
       "      <td>1840.37</td>\n",
       "    </tr>\n",
       "    <tr>\n",
       "      <th>2011-04-01 00:00:00</th>\n",
       "      <td>8991.27</td>\n",
       "      <td>1005.24</td>\n",
       "      <td>1005.09</td>\n",
       "      <td>1428.73</td>\n",
       "      <td>107.94</td>\n",
       "      <td>1260.63</td>\n",
       "      <td>1840.16</td>\n",
       "    </tr>\n",
       "    <tr>\n",
       "      <th>2011-04-04 00:00:00</th>\n",
       "      <td>8987.19</td>\n",
       "      <td>1007.19</td>\n",
       "      <td>1005.49</td>\n",
       "      <td>1434.03</td>\n",
       "      <td>108.47</td>\n",
       "      <td>1262.92</td>\n",
       "      <td>1842.92</td>\n",
       "    </tr>\n",
       "    <tr>\n",
       "      <th>2011-04-05 00:00:00</th>\n",
       "      <td>8987.67</td>\n",
       "      <td>1013.35</td>\n",
       "      <td>1005.28</td>\n",
       "      <td>1455.85</td>\n",
       "      <td>108.34</td>\n",
       "      <td>1263.58</td>\n",
       "      <td>1837.95</td>\n",
       "    </tr>\n",
       "    <tr>\n",
       "      <th>2011-04-06 00:00:00</th>\n",
       "      <td>8984.33</td>\n",
       "      <td>1014.59</td>\n",
       "      <td>1006.92</td>\n",
       "      <td>1459.75</td>\n",
       "      <td>108.83</td>\n",
       "      <td>1265.45</td>\n",
       "      <td>1833.11</td>\n",
       "    </tr>\n",
       "  </tbody>\n",
       "</table>\n",
       "</div>"
      ],
      "text/plain": [
       "                    FNERTR Index CRSPSCT Index CRSPLC1 Index XAU Curncy  \\\n",
       "Dates                                                                     \n",
       "2011-03-31 00:00:00      8973.82          1000          1000     1432.2   \n",
       "2011-04-01 00:00:00      8991.27       1005.24       1005.09    1428.73   \n",
       "2011-04-04 00:00:00      8987.19       1007.19       1005.49    1434.03   \n",
       "2011-04-05 00:00:00      8987.67       1013.35       1005.28    1455.85   \n",
       "2011-04-06 00:00:00      8984.33       1014.59       1006.92    1459.75   \n",
       "\n",
       "                     CL1 Comdty LF98TRUU Index LUATTRUU Index  \n",
       "Dates                                                          \n",
       "2011-03-31 00:00:00      106.72        1258.19        1840.37  \n",
       "2011-04-01 00:00:00      107.94        1260.63        1840.16  \n",
       "2011-04-04 00:00:00      108.47        1262.92        1842.92  \n",
       "2011-04-05 00:00:00      108.34        1263.58        1837.95  \n",
       "2011-04-06 00:00:00      108.83        1265.45        1833.11  "
      ]
     },
     "execution_count": 6,
     "metadata": {},
     "output_type": "execute_result"
    }
   ],
   "source": [
    "df.head()"
   ]
  },
  {
   "cell_type": "code",
   "execution_count": 5,
   "metadata": {},
   "outputs": [
    {
     "data": {
      "text/html": [
       "<div>\n",
       "<style scoped>\n",
       "    .dataframe tbody tr th:only-of-type {\n",
       "        vertical-align: middle;\n",
       "    }\n",
       "\n",
       "    .dataframe tbody tr th {\n",
       "        vertical-align: top;\n",
       "    }\n",
       "\n",
       "    .dataframe thead th {\n",
       "        text-align: right;\n",
       "    }\n",
       "</style>\n",
       "<table border=\"1\" class=\"dataframe\">\n",
       "  <thead>\n",
       "    <tr style=\"text-align: right;\">\n",
       "      <th></th>\n",
       "      <th>FNERTR Index</th>\n",
       "      <th>CRSPSCT Index</th>\n",
       "      <th>CRSPLC1 Index</th>\n",
       "      <th>XAU Curncy</th>\n",
       "      <th>CL1 Comdty</th>\n",
       "      <th>LF98TRUU Index</th>\n",
       "      <th>LUATTRUU Index</th>\n",
       "    </tr>\n",
       "    <tr>\n",
       "      <th>Dates</th>\n",
       "      <th></th>\n",
       "      <th></th>\n",
       "      <th></th>\n",
       "      <th></th>\n",
       "      <th></th>\n",
       "      <th></th>\n",
       "      <th></th>\n",
       "    </tr>\n",
       "  </thead>\n",
       "  <tbody>\n",
       "    <tr>\n",
       "      <th>2019-03-14 00:00:00</th>\n",
       "      <td>19103.5</td>\n",
       "      <td>2210.74</td>\n",
       "      <td>2106.75</td>\n",
       "      <td>1296.17</td>\n",
       "      <td>58.61</td>\n",
       "      <td>2033.79</td>\n",
       "      <td>2232.84</td>\n",
       "    </tr>\n",
       "    <tr>\n",
       "      <th>2019-03-15 00:00:00</th>\n",
       "      <td>19028.9</td>\n",
       "      <td>2214.88</td>\n",
       "      <td>2116.99</td>\n",
       "      <td>1302.4</td>\n",
       "      <td>58.52</td>\n",
       "      <td>2035.21</td>\n",
       "      <td>2236.97</td>\n",
       "    </tr>\n",
       "    <tr>\n",
       "      <th>2019-03-18 00:00:00</th>\n",
       "      <td>18928.9</td>\n",
       "      <td>2228.16</td>\n",
       "      <td>2124.79</td>\n",
       "      <td>1303.71</td>\n",
       "      <td>59.09</td>\n",
       "      <td>2036.45</td>\n",
       "      <td>2236.95</td>\n",
       "    </tr>\n",
       "    <tr>\n",
       "      <th>2019-03-19 00:00:00</th>\n",
       "      <td>18873</td>\n",
       "      <td>2217.3</td>\n",
       "      <td>2124.41</td>\n",
       "      <td>1306.56</td>\n",
       "      <td>59.03</td>\n",
       "      <td>2038.17</td>\n",
       "      <td>2235.21</td>\n",
       "    </tr>\n",
       "    <tr>\n",
       "      <th>2019-03-20 00:00:00</th>\n",
       "      <td>18873</td>\n",
       "      <td>2217.3</td>\n",
       "      <td>2124.41</td>\n",
       "      <td>1303</td>\n",
       "      <td>59.01</td>\n",
       "      <td>2038.17</td>\n",
       "      <td>2235.21</td>\n",
       "    </tr>\n",
       "  </tbody>\n",
       "</table>\n",
       "</div>"
      ],
      "text/plain": [
       "                    FNERTR Index CRSPSCT Index CRSPLC1 Index XAU Curncy  \\\n",
       "Dates                                                                     \n",
       "2019-03-14 00:00:00      19103.5       2210.74       2106.75    1296.17   \n",
       "2019-03-15 00:00:00      19028.9       2214.88       2116.99     1302.4   \n",
       "2019-03-18 00:00:00      18928.9       2228.16       2124.79    1303.71   \n",
       "2019-03-19 00:00:00        18873        2217.3       2124.41    1306.56   \n",
       "2019-03-20 00:00:00        18873        2217.3       2124.41       1303   \n",
       "\n",
       "                     CL1 Comdty LF98TRUU Index LUATTRUU Index  \n",
       "Dates                                                          \n",
       "2019-03-14 00:00:00       58.61        2033.79        2232.84  \n",
       "2019-03-15 00:00:00       58.52        2035.21        2236.97  \n",
       "2019-03-18 00:00:00       59.09        2036.45        2236.95  \n",
       "2019-03-19 00:00:00       59.03        2038.17        2235.21  \n",
       "2019-03-20 00:00:00       59.01        2038.17        2235.21  "
      ]
     },
     "execution_count": 5,
     "metadata": {},
     "output_type": "execute_result"
    }
   ],
   "source": [
    "df.tail()"
   ]
  },
  {
   "cell_type": "code",
   "execution_count": 4,
   "metadata": {},
   "outputs": [],
   "source": [
    "# 清理列\n",
    "drop_volumns = list(filter(lambda c: c.startswith('LOG'),df.columns.values.tolist()))\n",
    "df = df.drop(columns=drop_volumns)\n",
    "# 清理行\n",
    "df = df[df.index.notnull()]\n",
    "df = df.drop('variance')\n",
    "# 没有REITs\n",
    "df_without_reits = df.drop(columns=['FNERTR Index'])"
   ]
  },
  {
   "cell_type": "code",
   "execution_count": 7,
   "metadata": {},
   "outputs": [],
   "source": [
    "# Calculate expected returns and sample covariance\n",
    "def efficient_frontier(df):\n",
    "    mu = expected_returns.mean_historical_return(df)\n",
    "#     S = risk_models.sample_cov(df)\n",
    "    S = risk_models.CovarianceShrinkage(df).ledoit_wolf()\n",
    "\n",
    "    # Optimise for maximal Sharpe ratio\n",
    "    ef = EfficientFrontier(mu, S)\n",
    "    raw_weights = ef.max_sharpe()\n",
    "    cleaned_weights = ef.clean_weights()\n",
    "    print(cleaned_weights)\n",
    "    ef.portfolio_performance(verbose=True)"
   ]
  },
  {
   "cell_type": "code",
   "execution_count": 8,
   "metadata": {},
   "outputs": [
    {
     "name": "stdout",
     "output_type": "stream",
     "text": [
      "{'FNERTR Index': 0.00404, 'CRSPSCT Index': 0.00761, 'CRSPLC1 Index': 0.05923, 'XAU Curncy': 0.0, 'CL1 Comdty': 0.0, 'LF98TRUU Index': 0.63172, 'LUATTRUU Index': 0.2974}\n",
      "Expected annual return: 5.2%\n",
      "Annual volatility: 2.9%\n",
      "Sharpe Ratio: 1.07\n"
     ]
    }
   ],
   "source": [
    "efficient_frontier(df)"
   ]
  },
  {
   "cell_type": "code",
   "execution_count": 9,
   "metadata": {},
   "outputs": [
    {
     "name": "stdout",
     "output_type": "stream",
     "text": [
      "{'CRSPSCT Index': 0.00892, 'CRSPLC1 Index': 0.05944, 'XAU Curncy': 0.0, 'CL1 Comdty': 0.0, 'LF98TRUU Index': 0.62968, 'LUATTRUU Index': 0.30196}\n",
      "Expected annual return: 5.2%\n",
      "Annual volatility: 2.9%\n",
      "Sharpe Ratio: 1.08\n"
     ]
    }
   ],
   "source": [
    "efficient_frontier(df_without_reits)"
   ]
  },
  {
   "cell_type": "code",
   "execution_count": 55,
   "metadata": {},
   "outputs": [],
   "source": [
    "df.to_csv(\"reits_clean.csv\")"
   ]
  }
 ],
 "metadata": {
  "kernelspec": {
   "display_name": "Python 3",
   "language": "python",
   "name": "python3"
  },
  "language_info": {
   "codemirror_mode": {
    "name": "ipython",
    "version": 3
   },
   "file_extension": ".py",
   "mimetype": "text/x-python",
   "name": "python",
   "nbconvert_exporter": "python",
   "pygments_lexer": "ipython3",
   "version": "3.7.0"
  }
 },
 "nbformat": 4,
 "nbformat_minor": 2
}
